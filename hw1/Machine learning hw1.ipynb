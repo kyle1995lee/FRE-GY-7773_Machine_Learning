{
 "cells": [
  {
   "cell_type": "markdown",
   "metadata": {},
   "source": [
    "# Machine Learning Homework1\n",
    "K nearest neighbor calculation and plot \n",
    " Kyle 2018/09/26\n"
   ]
  },
  {
   "cell_type": "markdown",
   "metadata": {},
   "source": [
    "## Import packages and check working directory \n"
   ]
  },
  {
   "cell_type": "code",
   "execution_count": 4,
   "metadata": {
    "collapsed": true
   },
   "outputs": [],
   "source": [
    "import pandas as pd\n",
    "import numpy as np\n",
    "import os\n",
    "import matplotlib.pyplot as plt"
   ]
  },
  {
   "cell_type": "code",
   "execution_count": 5,
   "metadata": {},
   "outputs": [
    {
     "data": {
      "text/plain": [
       "'C:\\\\Users\\\\kyle1'"
      ]
     },
     "execution_count": 5,
     "metadata": {},
     "output_type": "execute_result"
    }
   ],
   "source": [
    "os.getcwd()"
   ]
  },
  {
   "cell_type": "markdown",
   "metadata": {},
   "source": [
    "## Read files and clean dataset"
   ]
  },
  {
   "cell_type": "code",
   "execution_count": 6,
   "metadata": {
    "collapsed": true
   },
   "outputs": [],
   "source": [
    "data=pd.read_csv('tensor_10_2.csv',header=None)"
   ]
  },
  {
   "cell_type": "code",
   "execution_count": 7,
   "metadata": {
    "collapsed": true
   },
   "outputs": [],
   "source": [
    "temp=np.array(data)"
   ]
  },
  {
   "cell_type": "markdown",
   "metadata": {},
   "source": [
    "## Calculate distance squared(method 1)"
   ]
  },
  {
   "cell_type": "code",
   "execution_count": 8,
   "metadata": {
    "collapsed": true
   },
   "outputs": [],
   "source": [
    "dist_sq = np.sum((temp[:,np.newaxis,:]-temp[np.newaxis,:,:])**2, axis=-1)"
   ]
  },
  {
   "cell_type": "code",
   "execution_count": 97,
   "metadata": {},
   "outputs": [
    {
     "data": {
      "text/plain": [
       "array([0., 0., 0., 0., 0., 0., 0., 0., 0., 0.])"
      ]
     },
     "execution_count": 97,
     "metadata": {},
     "output_type": "execute_result"
    }
   ],
   "source": [
    "#check if diagonal are all 0s\n",
    "dist_sq.diagonal()"
   ]
  },
  {
   "cell_type": "markdown",
   "metadata": {},
   "source": [
    "## Calculate distance squared(method 2)"
   ]
  },
  {
   "cell_type": "code",
   "execution_count": 18,
   "metadata": {
    "collapsed": true
   },
   "outputs": [],
   "source": [
    "temp1=np.broadcast_to(temp[np.newaxis,:,:],(10,10,2))\n",
    "temp2=np.broadcast_to(temp[:,np.newaxis,:],(10,10,2))"
   ]
  },
  {
   "cell_type": "code",
   "execution_count": 20,
   "metadata": {
    "collapsed": true
   },
   "outputs": [],
   "source": [
    "differences=temp[:,np.newaxis,:]-temp[np.newaxis,:,:]"
   ]
  },
  {
   "cell_type": "code",
   "execution_count": 22,
   "metadata": {
    "collapsed": true
   },
   "outputs": [],
   "source": [
    "sq_differences=differences**2"
   ]
  },
  {
   "cell_type": "code",
   "execution_count": 26,
   "metadata": {
    "collapsed": true
   },
   "outputs": [],
   "source": [
    "dist_sq=sq_differences.sum(axis=-1)"
   ]
  },
  {
   "cell_type": "code",
   "execution_count": 27,
   "metadata": {},
   "outputs": [
    {
     "data": {
      "text/plain": [
       "array([0., 0., 0., 0., 0., 0., 0., 0., 0., 0.])"
      ]
     },
     "execution_count": 27,
     "metadata": {},
     "output_type": "execute_result"
    }
   ],
   "source": [
    "#check if diagonal are all 0s\n",
    "dist_sq.diagonal()"
   ]
  },
  {
   "cell_type": "markdown",
   "metadata": {},
   "source": [
    "## Find nearest distance to a certain point"
   ]
  },
  {
   "cell_type": "code",
   "execution_count": 11,
   "metadata": {},
   "outputs": [
    {
     "data": {
      "text/plain": [
       "array([[0, 8, 3, 5, 1, 7, 9, 4, 6, 2],\n",
       "       [1, 8, 5, 0, 3, 6, 4, 9, 7, 2],\n",
       "       [2, 9, 4, 7, 6, 0, 3, 8, 1, 5],\n",
       "       [3, 0, 8, 5, 1, 7, 9, 4, 2, 6],\n",
       "       [4, 9, 2, 6, 7, 1, 0, 8, 3, 5],\n",
       "       [5, 8, 0, 1, 3, 6, 4, 7, 9, 2],\n",
       "       [6, 4, 1, 8, 9, 2, 0, 5, 7, 3],\n",
       "       [7, 9, 2, 3, 4, 0, 8, 1, 5, 6],\n",
       "       [8, 1, 0, 5, 3, 6, 4, 9, 7, 2],\n",
       "       [9, 2, 7, 4, 0, 6, 3, 8, 1, 5]], dtype=int64)"
      ]
     },
     "execution_count": 11,
     "metadata": {},
     "output_type": "execute_result"
    }
   ],
   "source": [
    "nearest=np.argsort(dist_sq, axis=1)\n",
    "nearest"
   ]
  },
  {
   "cell_type": "code",
   "execution_count": 12,
   "metadata": {},
   "outputs": [
    {
     "data": {
      "text/plain": [
       "array([[3, 8, 0, 5, 1, 7, 9, 6, 2, 4],\n",
       "       [1, 8, 5, 0, 3, 6, 4, 7, 2, 9],\n",
       "       [2, 9, 4, 7, 6, 0, 1, 5, 8, 3],\n",
       "       [3, 8, 0, 5, 1, 7, 9, 6, 2, 4],\n",
       "       [4, 9, 2, 6, 7, 1, 0, 3, 8, 5],\n",
       "       [5, 8, 1, 0, 3, 6, 4, 7, 2, 9],\n",
       "       [1, 4, 8, 6, 9, 2, 0, 5, 3, 7],\n",
       "       [7, 9, 2, 3, 4, 0, 8, 1, 6, 5],\n",
       "       [1, 8, 0, 5, 3, 6, 4, 7, 2, 9],\n",
       "       [7, 9, 2, 4, 0, 6, 5, 3, 8, 1]], dtype=int64)"
      ]
     },
     "execution_count": 12,
     "metadata": {},
     "output_type": "execute_result"
    }
   ],
   "source": [
    "K=4\n",
    "nearest_partition=np.argpartition(dist_sq,K+1,axis=1)\n",
    "nearest_partition"
   ]
  },
  {
   "cell_type": "markdown",
   "metadata": {},
   "source": [
    "## Plot in Graph using matplotlib"
   ]
  },
  {
   "cell_type": "code",
   "execution_count": 94,
   "metadata": {},
   "outputs": [
    {
     "data": {
      "image/png": "[encoded data removed]",
      "text/plain": [
       "<matplotlib.figure.Figure at 0x2c0208b89b0>"
      ]
     },
     "metadata": {},
     "output_type": "display_data"
    }
   ],
   "source": [
    "fig, ax = plt.subplots(2, 2, figsize=(15,8))\n",
    "k=1\n",
    "list_name=[\"First\",\"Second\",\"Third\",\"Fourth\"]\n",
    "for i in range(2):\n",
    "    for j in range(2):\n",
    "        ax[i,j].scatter(temp[:,0],temp[:,1],s=100)\n",
    "        ax[i,j].plot(*zip(temp[nearest_partition[4][0]],temp[nearest_partition[4][k]]),color='black')\n",
    "        #point out point 4\n",
    "        ax[i,j].annotate(\"point 4\",xy=data.iloc[4],xytext=(-1,20),textcoords='offset points', ha='right', va='bottom',\n",
    "        bbox=dict(boxstyle='round,pad=0.5', fc='white', alpha=0.5),\n",
    "        arrowprops=dict(arrowstyle = '->', connectionstyle='arc3,rad=0'))\n",
    "        #point out neighbor \n",
    "        ax[i,j].annotate(list_name[k-1] + \" Neighbor\",xy=data.iloc[nearest_partition[4][k]],xytext=(66,-33),textcoords='offset points', ha='right', va='bottom',\n",
    "        bbox=dict(boxstyle='round,pad=0.5', fc='white', alpha=0.5),\n",
    "        arrowprops=dict(arrowstyle = '->', connectionstyle='arc3,rad=0'))\n",
    "        #Set titles\n",
    "        ax[i,j].set_title(list_name[k-1]+' Nearest Neighbor (length = '+ str(round(dist_sq[4][nearest_partition[4][k]],4)) + ')')\n",
    "        k=k+1\n",
    "plt.show()"
   ]
  }
 ],
 "metadata": {
  "kernelspec": {
   "display_name": "Python 3",
   "language": "python",
   "name": "python3"
  },
  "language_info": {
   "codemirror_mode": {
    "name": "ipython",
    "version": 3
   },
   "file_extension": ".py",
   "mimetype": "text/x-python",
   "name": "python",
   "nbconvert_exporter": "python",
   "pygments_lexer": "ipython3",
   "version": "3.6.3"
  }
 },
 "nbformat": 4,
 "nbformat_minor": 2
}
