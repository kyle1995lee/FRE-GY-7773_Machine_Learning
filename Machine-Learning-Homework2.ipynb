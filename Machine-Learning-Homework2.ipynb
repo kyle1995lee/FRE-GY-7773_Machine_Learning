{
 "cells": [
  {
   "cell_type": "markdown",
   "metadata": {},
   "source": [
    "# Machine Learning Homework 2\n",
    "Calculating VaR, and using regression and Lasso regression to find their impact on VaR  \n",
    "2018/10/02 Kyle Lee  \n",
    "2018/10/04 found some errors in calculating returns, changed to pct_change for quicker results  \n",
    "2018/10/05 added a for loop to find said alpha, also did rounded results(thanks to Harnish Patel for reminding me)  "
   ]
  },
  {
   "cell_type": "markdown",
   "metadata": {},
   "source": [
    "## Import needed packages and dataset"
   ]
  },
  {
   "cell_type": "code",
   "execution_count": 80,
   "metadata": {
    "collapsed": true
   },
   "outputs": [],
   "source": [
    "#import all packages\n",
    "import numpy as np\n",
    "import pandas as pd\n",
    "import os"
   ]
  },
  {
   "cell_type": "code",
   "execution_count": 81,
   "metadata": {},
   "outputs": [],
   "source": [
    "#import pnl price data\n",
    "pnl = pd.read_csv('pnl_prices_hw3.csv')"
   ]
  },
  {
   "cell_type": "markdown",
   "metadata": {},
   "source": [
    "## Clean dataset"
   ]
  },
  {
   "cell_type": "code",
   "execution_count": 82,
   "metadata": {},
   "outputs": [],
   "source": [
    "#Calculate returns for dataset\n",
    "pnl['returns']=pnl['xyz'].pct_change()\n",
    "pnl.index=pnl.Date\n",
    "pnl=pnl.dropna()\n",
    "pnl=pnl.drop(['Date','xyz'],axis=1)\n",
    "pnl=pnl*1000000"
   ]
  },
  {
   "cell_type": "code",
   "execution_count": 83,
   "metadata": {},
   "outputs": [
    {
     "name": "stdout",
     "output_type": "stream",
     "text": [
      "VaR =  -39496.54854882854\n"
     ]
    }
   ],
   "source": [
    "#least 1% quantile (99%)\n",
    "print(\"VaR = \", pnl.returns.quantile(0.01))"
   ]
  },
  {
   "cell_type": "code",
   "execution_count": 84,
   "metadata": {},
   "outputs": [
    {
     "name": "stdout",
     "output_type": "stream",
     "text": [
      "VaR rounded =  -42204.56802383321\n"
     ]
    }
   ],
   "source": [
    "#least 1% quantile (99%) rounded\n",
    "print(\"VaR rounded = \", pnl.returns.quantile(0.01,'lower'))"
   ]
  },
  {
   "cell_type": "markdown",
   "metadata": {},
   "source": [
    "## Import hedge dataset and clean it"
   ]
  },
  {
   "cell_type": "code",
   "execution_count": 85,
   "metadata": {
    "collapsed": true
   },
   "outputs": [],
   "source": [
    "#import dataset\n",
    "hedge=pd.read_csv('hedge_prices_hw3.csv')"
   ]
  },
  {
   "cell_type": "code",
   "execution_count": 86,
   "metadata": {
    "collapsed": true
   },
   "outputs": [],
   "source": [
    "#Data cleaning\n",
    "hedge.index=hedge.Date\n",
    "hedge=hedge.drop('Date',axis=1)\n",
    "hedge=hedge.pct_change()\n",
    "hedge=hedge.dropna()"
   ]
  },
  {
   "cell_type": "code",
   "execution_count": 87,
   "metadata": {},
   "outputs": [
    {
     "data": {
      "text/plain": [
       "(780, 100)"
      ]
     },
     "execution_count": 87,
     "metadata": {},
     "output_type": "execute_result"
    }
   ],
   "source": [
    "#Check if shape is correct\n",
    "hedge.shape"
   ]
  },
  {
   "cell_type": "markdown",
   "metadata": {},
   "source": [
    "## Multilinear Regression"
   ]
  },
  {
   "cell_type": "code",
   "execution_count": 88,
   "metadata": {
    "collapsed": true
   },
   "outputs": [],
   "source": [
    "#import package for linearRegression and Lasso\n",
    "from sklearn import linear_model"
   ]
  },
  {
   "cell_type": "code",
   "execution_count": 89,
   "metadata": {
    "collapsed": true
   },
   "outputs": [],
   "source": [
    "#Setting the linear regression model\n",
    "model=linear_model.LinearRegression()"
   ]
  },
  {
   "cell_type": "code",
   "execution_count": 90,
   "metadata": {
    "collapsed": true
   },
   "outputs": [],
   "source": [
    "#Setting X,y for regressions\n",
    "X=hedge\n",
    "y=pnl"
   ]
  },
  {
   "cell_type": "code",
   "execution_count": 91,
   "metadata": {},
   "outputs": [
    {
     "data": {
      "text/plain": [
       "LinearRegression(copy_X=True, fit_intercept=True, n_jobs=1, normalize=False)"
      ]
     },
     "execution_count": 91,
     "metadata": {},
     "output_type": "execute_result"
    }
   ],
   "source": [
    "#fit data to model\n",
    "model.fit(X,y)"
   ]
  },
  {
   "cell_type": "code",
   "execution_count": 92,
   "metadata": {},
   "outputs": [
    {
     "name": "stdout",
     "output_type": "stream",
     "text": [
      "sum of the coefficients in regression =  4520430.84688\n"
     ]
    }
   ],
   "source": [
    "#Sum up the coefficients\n",
    "print(\"sum of the coefficients in regression = \",np.sum(abs(model.coef_)))\n"
   ]
  },
  {
   "cell_type": "code",
   "execution_count": 93,
   "metadata": {
    "collapsed": true
   },
   "outputs": [],
   "source": [
    "#Subtract hedge from portfolio\n",
    "pnl_regress=pd.DataFrame()\n",
    "pnl_regress['returns']=pnl.returns\n",
    "for i in range(len(pnl)):\n",
    "    pnl_regress.returns[i]=pnl.returns[i]-np.dot(model.coef_,hedge.iloc[i])\n",
    "    "
   ]
  },
  {
   "cell_type": "code",
   "execution_count": 94,
   "metadata": {},
   "outputs": [
    {
     "name": "stdout",
     "output_type": "stream",
     "text": [
      "VaR for regression =  -28365.51569344735\n"
     ]
    }
   ],
   "source": [
    "#Calculating VaR\n",
    "print(\"VaR for regression = \",pnl_regress.returns.quantile(0.01))"
   ]
  },
  {
   "cell_type": "code",
   "execution_count": 95,
   "metadata": {},
   "outputs": [
    {
     "name": "stdout",
     "output_type": "stream",
     "text": [
      "VaR for regression rounded =  -28795.866717291967\n"
     ]
    }
   ],
   "source": [
    "#Calculating VaR rounded\n",
    "print(\"VaR for regression rounded = \",pnl_regress.returns.quantile(0.01, 'lower'))"
   ]
  },
  {
   "cell_type": "markdown",
   "metadata": {},
   "source": [
    "## Lasso Regression"
   ]
  },
  {
   "cell_type": "code",
   "execution_count": 96,
   "metadata": {},
   "outputs": [
    {
     "name": "stdout",
     "output_type": "stream",
     "text": [
      "number of coefficients that are not 0 =  81\n"
     ]
    }
   ],
   "source": [
    "#Do a alpha=1 Lasso and see how many coefficients are not 0\n",
    "clf = linear_model.Lasso(alpha=1)\n",
    "clf.fit(X,y)\n",
    "num=clf.coef_.shape[0]-sum(np.isclose(clf.coef_,0))\n",
    "print(\"number of coefficients that are not 0 = \",num)"
   ]
  },
  {
   "cell_type": "code",
   "execution_count": 111,
   "metadata": {},
   "outputs": [
    {
     "data": {
      "text/plain": [
       "Lasso(alpha=89, copy_X=True, fit_intercept=True, max_iter=1000,\n",
       "   normalize=False, positive=False, precompute=False, random_state=None,\n",
       "   selection='cyclic', tol=0.0001, warm_start=False)"
      ]
     },
     "execution_count": 111,
     "metadata": {},
     "output_type": "execute_result"
    }
   ],
   "source": [
    "#Doing LASSO looking for only 5 variables\n",
    "clf = linear_model.Lasso(alpha=89)\n",
    "clf.fit(X,y)"
   ]
  },
  {
   "cell_type": "code",
   "execution_count": 112,
   "metadata": {},
   "outputs": [
    {
     "data": {
      "text/plain": [
       "5"
      ]
     },
     "execution_count": 112,
     "metadata": {},
     "output_type": "execute_result"
    }
   ],
   "source": [
    "#checking the numbers that are still standing\n",
    "sum(clf.coef_!=0)"
   ]
  },
  {
   "cell_type": "code",
   "execution_count": 113,
   "metadata": {},
   "outputs": [
    {
     "name": "stderr",
     "output_type": "stream",
     "text": [
      "D:\\Applications\\Anaconda\\lib\\site-packages\\ipykernel_launcher.py:4: UserWarning: With alpha=0, this algorithm does not converge well. You are advised to use the LinearRegression estimator\n",
      "  after removing the cwd from sys.path.\n",
      "D:\\Applications\\Anaconda\\lib\\site-packages\\sklearn\\linear_model\\coordinate_descent.py:477: UserWarning: Coordinate descent with no regularization may lead to unexpected results and is discouraged.\n",
      "  positive)\n",
      "D:\\Applications\\Anaconda\\lib\\site-packages\\sklearn\\linear_model\\coordinate_descent.py:491: ConvergenceWarning: Objective did not converge. You might want to increase the number of iterations. Fitting data with very small alpha may cause precision problems.\n",
      "  ConvergenceWarning)\n"
     ]
    },
    {
     "name": "stdout",
     "output_type": "stream",
     "text": [
      "89\n"
     ]
    }
   ],
   "source": [
    "#Another way to find alpha for 5 coefficients without trail and error by hand\n",
    "for i in range(120):\n",
    "    clf=linear_model.Lasso(alpha=i)\n",
    "    clf.fit(X,y)\n",
    "    if sum(clf.coef_!=0)==5:\n",
    "        break\n",
    "print(i)"
   ]
  },
  {
   "cell_type": "code",
   "execution_count": 114,
   "metadata": {},
   "outputs": [
    {
     "data": {
      "text/plain": [
       "array([     0.        ,      0.        ,      0.        ,      0.        ,\n",
       "            0.        ,      0.        ,      0.        ,      0.        ,\n",
       "         1190.28865972,      0.        ,      0.        ,      0.        ,\n",
       "            0.        ,      0.        ,      0.        ,      0.        ,\n",
       "            0.        ,      0.        ,      0.        ,      0.        ,\n",
       "            0.        ,      0.        ,      0.        ,      0.        ,\n",
       "            0.        ,      0.        ,      0.        ,      0.        ,\n",
       "            0.        ,      0.        ,      0.        ,      0.        ,\n",
       "            0.        ,      0.        ,      0.        ,      0.        ,\n",
       "            0.        ,      0.        ,      0.        ,      0.        ,\n",
       "            0.        ,      0.        ,  32846.42147806,      0.        ,\n",
       "            0.        ,      0.        ,      0.        ,      0.        ,\n",
       "            0.        ,      0.        ,      0.        ,      0.        ,\n",
       "            0.        ,      0.        ,      0.        ,      0.        ,\n",
       "            0.        ,      0.        ,      0.        ,      0.        ,\n",
       "            0.        ,      0.        ,      0.        ,      0.        ,\n",
       "            0.        ,      0.        ,      0.        ,  10634.37291316,\n",
       "            0.        ,      0.        ,      0.        ,      0.        ,\n",
       "            0.        ,      0.        ,      0.        ,      0.        ,\n",
       "            0.        ,      0.        ,      0.        ,      0.        ,\n",
       "            0.        ,      0.        ,      0.        ,      0.        ,\n",
       "            0.        ,  10701.71896995,      0.        ,      0.        ,\n",
       "            0.        ,      0.        ,      0.        ,      0.        ,\n",
       "            0.        ,      0.        ,      0.        ,      0.        ,\n",
       "            0.        ,      0.        ,  46123.60386831,      0.        ])"
      ]
     },
     "execution_count": 114,
     "metadata": {},
     "output_type": "execute_result"
    }
   ],
   "source": [
    "#take a peek to make sure\n",
    "clf.coef_"
   ]
  },
  {
   "cell_type": "code",
   "execution_count": 115,
   "metadata": {
    "collapsed": true
   },
   "outputs": [],
   "source": [
    "#subtract lasso variables from pnl to calculate VaR\n",
    "pnl_lasso=pd.DataFrame()\n",
    "pnl_lasso['returns']=pnl.returns\n",
    "for i in range(len(pnl)):\n",
    "    pnl_lasso.returns[i]=pnl.returns[i]-np.dot(clf.coef_,hedge.iloc[i])\n",
    "    "
   ]
  },
  {
   "cell_type": "code",
   "execution_count": 116,
   "metadata": {},
   "outputs": [
    {
     "name": "stdout",
     "output_type": "stream",
     "text": [
      "VaR for Lasso =  -36497.02734012559\n"
     ]
    }
   ],
   "source": [
    "print(\"VaR for Lasso = \",pnl_lasso.returns.quantile(0.01))"
   ]
  },
  {
   "cell_type": "code",
   "execution_count": 117,
   "metadata": {},
   "outputs": [
    {
     "name": "stdout",
     "output_type": "stream",
     "text": [
      "VaR for Lasso rounded =  -37839.32476640732\n"
     ]
    }
   ],
   "source": [
    "print(\"VaR for Lasso rounded = \",pnl_lasso.returns.quantile(0.01,'lower'))"
   ]
  },
  {
   "cell_type": "code",
   "execution_count": 124,
   "metadata": {},
   "outputs": [
    {
     "name": "stdout",
     "output_type": "stream",
     "text": [
      "Original portfolio VaR =  -39496.54854882854 \t(rounded =  -42204.56802383321 ) \n",
      "Portfolio VaR for regression =  -28365.51569344735 \t(rounded =  -28795.866717291967 )\n",
      "Portfolio VaR for Lasso =  -36497.02734012559 \t(rounded =  -37839.32476640732 )\n"
     ]
    }
   ],
   "source": [
    "\n",
    "print(\"Original portfolio VaR = \",pnl.returns.quantile(0.01), \"\\t(rounded = \", pnl.returns.quantile(0.01,'lower'), \")\",\n",
    "    \"\\nPortfolio VaR for regression = \",pnl_regress.returns.quantile(0.01), \"\\t(rounded = \", pnl_regress.returns.quantile(0.01,'lower'), \")\"\n",
    "    \"\\nPortfolio VaR for Lasso = \",pnl_lasso.returns.quantile(0.01), \"\\t(rounded = \", pnl_lasso.returns.quantile(0.01,'lower'), \")\")"
   ]
  },
  {
   "cell_type": "markdown",
   "metadata": {},
   "source": [
    "## Thoughts\n",
    "Regression is the best way to lower VaR in all these three methods. But Regression takes a lot of varibales, and normally you don't have the time to pick all the 100 stocks. Lasso is good since it only takes a few variables, in our case, 5, to make the VaR lower a bit. "
   ]
  }
 ],
 "metadata": {
  "kernelspec": {
   "display_name": "Python 3",
   "language": "python",
   "name": "python3"
  },
  "language_info": {
   "codemirror_mode": {
    "name": "ipython",
    "version": 3
   },
   "file_extension": ".py",
   "mimetype": "text/x-python",
   "name": "python",
   "nbconvert_exporter": "python",
   "pygments_lexer": "ipython3",
   "version": "3.6.2"
  }
 },
 "nbformat": 4,
 "nbformat_minor": 2
}
